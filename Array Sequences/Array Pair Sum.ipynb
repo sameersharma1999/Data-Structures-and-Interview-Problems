{
 "cells": [
  {
   "cell_type": "markdown",
   "metadata": {},
   "source": [
    "# Array Pair Sum\n",
    "## Problem\n",
    "### Given an integer array, output all the unique pairs that sum up to a specific value k.\n",
    "So the input:\n",
    "\n",
    "pair_sum([1,3,2,2],4)\n",
    "\n",
    "would return 2 pairs:\n",
    "\n",
    "(1,3) (2,2)\n",
    "\n",
    "## NOTE: FOR TESTING PURPOSES CHANGE YOUR FUNCTION SO IT OUTPUTS THE NUMBER OF PAIRS"
   ]
  },
  {
   "cell_type": "code",
   "execution_count": 1,
   "metadata": {},
   "outputs": [],
   "source": [
    "def Pair_Sum(arr, k):\n",
    "    \n",
    "    if len(arr) < 2:  # Base Condition\n",
    "        return 'No Pairs Found'\n",
    "    \n",
    "    seen = list()\n",
    "    pairs = set()\n",
    "    \n",
    "    for i in arr:\n",
    "        target_value = k - i\n",
    "        \n",
    "        if target_value not in seen:\n",
    "            seen.append(i)\n",
    "        else:\n",
    "            pairs.add((min(i, target_value), max(i, target_value)))\n",
    "    \n",
    "    return pairs"
   ]
  },
  {
   "cell_type": "code",
   "execution_count": 2,
   "metadata": {},
   "outputs": [
    {
     "name": "stdout",
     "output_type": "stream",
     "text": [
      "{(1, 3), (2, 2)}\n"
     ]
    }
   ],
   "source": [
    "value = Pair_Sum([1,3,2,2],4)\n",
    "print(value)"
   ]
  }
 ],
 "metadata": {
  "kernelspec": {
   "display_name": "Python 3",
   "language": "python",
   "name": "python3"
  },
  "language_info": {
   "codemirror_mode": {
    "name": "ipython",
    "version": 3
   },
   "file_extension": ".py",
   "mimetype": "text/x-python",
   "name": "python",
   "nbconvert_exporter": "python",
   "pygments_lexer": "ipython3",
   "version": "3.7.4"
  }
 },
 "nbformat": 4,
 "nbformat_minor": 2
}
