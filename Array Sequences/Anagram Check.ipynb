{
 "cells": [
  {
   "cell_type": "markdown",
   "metadata": {},
   "source": [
    "## Anagram Check\n",
    "### Problem\n",
    "#### Given two strings, check to see if they are anagrams. An anagram is when the two strings can be written using the exact same letters (so you can just rearrange the letters to get a different phrase or word).\n",
    "For example:\n",
    "\n",
    "\"public relations\" is an anagram of \"crap built on lies.\"\n",
    "\n",
    "\"clint eastwood\" is an anagram of \"old west action\"\n",
    "\n",
    "### Note: Ignore spaces and capitalization. So \"d go\" is an anagram of \"God\" and \"dog\" and \"o d g\"."
   ]
  },
  {
   "cell_type": "code",
   "execution_count": 1,
   "metadata": {},
   "outputs": [],
   "source": [
    "def Anagram_Check(str1, str2):\n",
    "    str1 = str1.replace(' ', '').lower()\n",
    "    str2 = str2.replace(' ', '').lower()\n",
    "    \n",
    "    if len(str1) != len(str2):  # Base Condition\n",
    "        return 'Not a Anagram'\n",
    "    \n",
    "    else:                                              # Time Comlexity\n",
    "        d = {}\n",
    "        \n",
    "        for i in str1:                                       # O(n)\n",
    "            if i in d.keys():                                 \n",
    "                d[i] += 1\n",
    "            else:\n",
    "                d[i] = 1\n",
    "        \n",
    "        for i in str2:                                       # O(n)\n",
    "            if i in d.keys():\n",
    "                d[i] -= 1\n",
    "            else:\n",
    "                return 'Not a Aagram'\n",
    "        \n",
    "        for i in d:                                          # O(n)\n",
    "            if d[i] != 0:\n",
    "                return 'Not a Anagram'\n",
    "            \n",
    "        return 'It is a Anagram'\n",
    "    \n",
    "                                                       # Total = O(n)"
   ]
  },
  {
   "cell_type": "code",
   "execution_count": 2,
   "metadata": {},
   "outputs": [
    {
     "name": "stdout",
     "output_type": "stream",
     "text": [
      "Not a Anagram\n"
     ]
    }
   ],
   "source": [
    "value = Anagram_Check('aabbcc','aabbc')\n",
    "print(value)"
   ]
  }
 ],
 "metadata": {
  "kernelspec": {
   "display_name": "Python 3",
   "language": "python",
   "name": "python3"
  },
  "language_info": {
   "codemirror_mode": {
    "name": "ipython",
    "version": 3
   },
   "file_extension": ".py",
   "mimetype": "text/x-python",
   "name": "python",
   "nbconvert_exporter": "python",
   "pygments_lexer": "ipython3",
   "version": "3.7.4"
  }
 },
 "nbformat": 4,
 "nbformat_minor": 2
}
