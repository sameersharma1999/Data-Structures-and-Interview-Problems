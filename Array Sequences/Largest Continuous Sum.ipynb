{
 "cells": [
  {
   "cell_type": "markdown",
   "metadata": {},
   "source": [
    "# Largest Continuous Sum\n",
    "## Problem\n",
    "### Given an array of integers (positive and negative) find the largest continuous sum.\n",
    "\n",
    "#### Solution\n",
    "Fill out your solution below:\n",
    "    \n",
    "Exapmle: [1,2,-1,3,4,10,10,-10,-1]\n",
    "Sum: 29"
   ]
  },
  {
   "cell_type": "code",
   "execution_count": 6,
   "metadata": {},
   "outputs": [],
   "source": [
    "def Continuous_Sum(arr):\n",
    "    if len(arr) == 0:\n",
    "        return False\n",
    "    else:\n",
    "        \n",
    "        summ = arr[0]\n",
    "        max_sum = arr[0]\n",
    "        \n",
    "        for i in arr[1:]:\n",
    "            summ = max(summ+i, summ)\n",
    "            max_sum = max(summ, max_sum)\n",
    "        \n",
    "        return max_sum"
   ]
  },
  {
   "cell_type": "code",
   "execution_count": 7,
   "metadata": {},
   "outputs": [
    {
     "name": "stdout",
     "output_type": "stream",
     "text": [
      "30\n"
     ]
    }
   ],
   "source": [
    "value = Continuous_Sum([1,2,-1,3,4,10,10,-10,-1])\n",
    "print(value)"
   ]
  },
  {
   "cell_type": "code",
   "execution_count": 8,
   "metadata": {},
   "outputs": [],
   "source": [
    "def large_cont_sum(arr):\n",
    "    if len(arr) == 0:\n",
    "        return 0\n",
    "    \n",
    "    max_num = sum = arr[0]# max=sum=arr[0] bug: TypeError: 'int' object is not callable. (Do not use the keyword!)\n",
    "    \n",
    "    for n in arr[1:]:\n",
    "        sum = max(sum+n, n)\n",
    "        max_num = max(sum, max_num)\n",
    "    return max_num\n",
    "    pass"
   ]
  },
  {
   "cell_type": "code",
   "execution_count": 9,
   "metadata": {},
   "outputs": [
    {
     "name": "stdout",
     "output_type": "stream",
     "text": [
      "29\n"
     ]
    }
   ],
   "source": [
    "value = large_cont_sum([1,2,-1,3,4,10,10,-10,-1])\n",
    "print(value)"
   ]
  },
  {
   "cell_type": "code",
   "execution_count": null,
   "metadata": {},
   "outputs": [],
   "source": []
  }
 ],
 "metadata": {
  "kernelspec": {
   "display_name": "Python 3",
   "language": "python",
   "name": "python3"
  },
  "language_info": {
   "codemirror_mode": {
    "name": "ipython",
    "version": 3
   },
   "file_extension": ".py",
   "mimetype": "text/x-python",
   "name": "python",
   "nbconvert_exporter": "python",
   "pygments_lexer": "ipython3",
   "version": "3.7.4"
  }
 },
 "nbformat": 4,
 "nbformat_minor": 2
}
